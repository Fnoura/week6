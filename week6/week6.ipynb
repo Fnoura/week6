{
 "cells": [
  {
   "cell_type": "code",
   "execution_count": 1,
   "id": "e227750d-eebb-4221-913a-5aad1d0565e1",
   "metadata": {},
   "outputs": [],
   "source": [
    "import pandas as pd\n",
    "import numpy as np\n",
    "import pandas as pandas_pd\n",
    "import os\n",
    "import time\n",
    "import sys"
   ]
  },
  {
   "cell_type": "code",
   "execution_count": 2,
   "id": "f9821ad5-4962-41a0-a601-59d70c12c514",
   "metadata": {},
   "outputs": [],
   "source": [
    "data = pd.read_csv('test_data.csv')"
   ]
  },
  {
   "cell_type": "code",
   "execution_count": 3,
   "id": "ed5f43d0-cf57-4946-be4f-2a88cfc605e7",
   "metadata": {},
   "outputs": [
    {
     "data": {
      "text/html": [
       "<div>\n",
       "<style scoped>\n",
       "    .dataframe tbody tr th:only-of-type {\n",
       "        vertical-align: middle;\n",
       "    }\n",
       "\n",
       "    .dataframe tbody tr th {\n",
       "        vertical-align: top;\n",
       "    }\n",
       "\n",
       "    .dataframe thead th {\n",
       "        text-align: right;\n",
       "    }\n",
       "</style>\n",
       "<table border=\"1\" class=\"dataframe\">\n",
       "  <thead>\n",
       "    <tr style=\"text-align: right;\">\n",
       "      <th></th>\n",
       "      <th>title</th>\n",
       "      <th>url</th>\n",
       "      <th>abstract</th>\n",
       "    </tr>\n",
       "  </thead>\n",
       "  <tbody>\n",
       "    <tr>\n",
       "      <th>0</th>\n",
       "      <td>Wikibooks: Radiation Oncology/NHL/CLL-SLL</td>\n",
       "      <td>https://en.wikibooks.org/wiki/Radiation_Oncolo</td>\n",
       "      <td>Chronic Lymphocytic Leukemia and Small Lymphoc...</td>\n",
       "    </tr>\n",
       "    <tr>\n",
       "      <th>1</th>\n",
       "      <td>Wikibooks: Romanian/Lesson 9</td>\n",
       "      <td>https://en.wikibooks.org/wiki/Romanian/Lesson_9</td>\n",
       "      <td>==Băuturi/Beverages==</td>\n",
       "    </tr>\n",
       "    <tr>\n",
       "      <th>2</th>\n",
       "      <td>Wikibooks: Karrigell</td>\n",
       "      <td>https://en.wikibooks.org/wiki/Karrigell</td>\n",
       "      <td>Karrigell is an open Source Python web framewo...</td>\n",
       "    </tr>\n",
       "    <tr>\n",
       "      <th>3</th>\n",
       "      <td>Wikibooks: Calculus/Precalculus</td>\n",
       "      <td>https://en.wikibooks.org/wiki/The_Pyrogenesis</td>\n",
       "      <td>====setupUnitPanel====</td>\n",
       "    </tr>\n",
       "  </tbody>\n",
       "</table>\n",
       "</div>"
      ],
      "text/plain": [
       "                                       title  \\\n",
       "0  Wikibooks: Radiation Oncology/NHL/CLL-SLL   \n",
       "1               Wikibooks: Romanian/Lesson 9   \n",
       "2                       Wikibooks: Karrigell   \n",
       "3            Wikibooks: Calculus/Precalculus   \n",
       "\n",
       "                                               url  \\\n",
       "0   https://en.wikibooks.org/wiki/Radiation_Oncolo   \n",
       "1  https://en.wikibooks.org/wiki/Romanian/Lesson_9   \n",
       "2          https://en.wikibooks.org/wiki/Karrigell   \n",
       "3    https://en.wikibooks.org/wiki/The_Pyrogenesis   \n",
       "\n",
       "                                            abstract  \n",
       "0  Chronic Lymphocytic Leukemia and Small Lymphoc...  \n",
       "1                              ==Băuturi/Beverages==  \n",
       "2  Karrigell is an open Source Python web framewo...  \n",
       "3                             ====setupUnitPanel====  "
      ]
     },
     "execution_count": 3,
     "metadata": {},
     "output_type": "execute_result"
    }
   ],
   "source": [
    "data.head()"
   ]
  },
  {
   "cell_type": "code",
   "execution_count": 4,
   "id": "a52e916e-9ce3-44a3-b3c0-50f17b390239",
   "metadata": {},
   "outputs": [
    {
     "data": {
      "text/plain": [
       "507"
      ]
     },
     "execution_count": 4,
     "metadata": {},
     "output_type": "execute_result"
    }
   ],
   "source": [
    "os.path.getsize('test_data.csv')"
   ]
  },
  {
   "cell_type": "code",
   "execution_count": 5,
   "id": "f70804ba-45c4-4916-ae94-65a6fa43cedc",
   "metadata": {},
   "outputs": [
    {
     "name": "stdout",
     "output_type": "stream",
     "text": [
      "Read csv with pandas:  0.0015058517456054688 sec\n"
     ]
    }
   ],
   "source": [
    "#Read with Pandas\n",
    "import pandas as pd\n",
    "start = time.time()\n",
    "df = pd.read_csv('test_data.csv')\n",
    "end = time.time()\n",
    "result = print(\"Read csv with pandas: \",(end-start),\"sec\")"
   ]
  },
  {
   "cell_type": "code",
   "execution_count": 6,
   "id": "ba7386db-bd29-49ed-85cf-0a3499549676",
   "metadata": {},
   "outputs": [
    {
     "name": "stdout",
     "output_type": "stream",
     "text": [
      "Read csv with dask:  0.03756427764892578 sec\n"
     ]
    },
    {
     "name": "stderr",
     "output_type": "stream",
     "text": [
      "C:\\Users\\Admin\\AppData\\Local\\Temp\\ipykernel_37088\\932894012.py:2: DeprecationWarning: The current Dask DataFrame implementation is deprecated. \n",
      "In a future release, Dask DataFrame will use a new implementation that\n",
      "contains several improvements including a logical query planning.\n",
      "The user-facing DataFrame API will remain unchanged.\n",
      "\n",
      "The new implementation is already available and can be enabled by\n",
      "installing the dask-expr library:\n",
      "\n",
      "    $ pip install dask-expr\n",
      "\n",
      "and turning the query planning option on:\n",
      "\n",
      "    >>> import dask\n",
      "    >>> dask.config.set({'dataframe.query-planning': True})\n",
      "    >>> import dask.dataframe as dd\n",
      "\n",
      "API documentation for the new implementation is available at\n",
      "https://docs.dask.org/en/stable/dask-expr-api.html\n",
      "\n",
      "Any feedback can be reported on the Dask issue tracker\n",
      "https://github.com/dask/dask/issues \n",
      "\n",
      "To disable this warning in the future, set dask config:\n",
      "\n",
      "    # via Python\n",
      "    >>> dask.config.set({'dataframe.query-planning-warning': False})\n",
      "\n",
      "    # via CLI\n",
      "    dask config set dataframe.query-planning-warning False\n",
      "\n",
      "\n",
      "  from dask import dataframe as dd\n"
     ]
    }
   ],
   "source": [
    "\n",
    "#Read with Dask\n",
    "from dask import dataframe as dd\n",
    "start = time.time()\n",
    "dask_df = dd.read_csv('test_data.csv')\n",
    "end = time.time()\n",
    "result = print(\"Read csv with dask: \",(end-start),\"sec\")"
   ]
  },
  {
   "cell_type": "code",
   "execution_count": 7,
   "id": "dddde4e2-b7a7-4c4c-933d-cd62ef649189",
   "metadata": {},
   "outputs": [
    {
     "name": "stderr",
     "output_type": "stream",
     "text": [
      "2024-03-09 22:27:39,273\tINFO worker.py:1715 -- Started a local Ray instance. View the dashboard at \u001b[1m\u001b[32mhttp://127.0.0.1:8265 \u001b[39m\u001b[22m\n"
     ]
    },
    {
     "name": "stdout",
     "output_type": "stream",
     "text": [
      "Read csv with modin ray:  1.1493663787841797 sec\n"
     ]
    }
   ],
   "source": [
    "# Read with Modin Ray\n",
    "import modin.pandas as pd\n",
    "import ray\n",
    "ray.shutdown()\n",
    "ray.init()\n",
    "start = time.time()\n",
    "df = pd.read_csv('test_data.csv')\n",
    "end = time.time()\n",
    "result = print(\"Read csv with modin ray: \",(end-start),\"sec\")"
   ]
  },
  {
   "cell_type": "code",
   "execution_count": 18,
   "id": "0c37aee1-929d-4503-b93a-bcf3dbac36e9",
   "metadata": {},
   "outputs": [
    {
     "data": {
      "image/png": "[encoded data removed]",
      "text/plain": [
       "<Figure size 1500x600 with 1 Axes>"
      ]
     },
     "metadata": {},
     "output_type": "display_data"
    }
   ],
   "source": [
    "import matplotlib.pyplot as plt\n",
    "\n",
    "\n",
    "libraries = ['Dask', 'Pandas', 'Modin']\n",
    "read_csv_time = [0.037, 0.0015, 1.14] \n",
    "\n",
    "# Create a bar chart\n",
    "plt.figure(figsize=(15, 6))\n",
    "plt.bar(libraries, read_csv_time, color='skyblue')\n",
    "plt.title('CSV Read Time Comparison')\n",
    "plt.xlabel('Library')\n",
    "plt.ylabel('Time (seconds)')\n",
    "plt.grid(axis='y', linestyle='--', alpha=1)\n",
    "plt.show()\n",
    "\n"
   ]
  },
  {
   "cell_type": "code",
   "execution_count": 19,
   "id": "57844809-1352-4661-ba2a-1bdaada8bbfa",
   "metadata": {},
   "outputs": [
    {
     "data": {
      "text/plain": [
       "4"
      ]
     },
     "execution_count": 19,
     "metadata": {},
     "output_type": "execute_result"
    }
   ],
   "source": [
    "len(data.index)"
   ]
  },
  {
   "cell_type": "code",
   "execution_count": 20,
   "id": "53fca592-4855-43b3-83ca-ce4f80d0db25",
   "metadata": {},
   "outputs": [
    {
     "data": {
      "text/plain": [
       "3"
      ]
     },
     "execution_count": 20,
     "metadata": {},
     "output_type": "execute_result"
    }
   ],
   "source": [
    "len(data.columns)"
   ]
  },
  {
   "cell_type": "code",
   "execution_count": 26,
   "id": "7af90264-68e0-466c-b19b-114139e8d3ae",
   "metadata": {},
   "outputs": [],
   "source": [
    "# remove special character\n",
    "data.columns=data.columns.str.replace('[#,@,&]','')"
   ]
  },
  {
   "cell_type": "code",
   "execution_count": 21,
   "id": "3e1d6699-48bb-4007-b2f0-43f89e22bc33",
   "metadata": {},
   "outputs": [],
   "source": [
    "import yaml\n",
    "import logging\n",
    "import os\n",
    "import subprocess\n",
    "import yaml\n",
    "import pandas as pd\n",
    "import datetime \n",
    "import gc\n",
    "import re"
   ]
  },
  {
   "cell_type": "code",
   "execution_count": 42,
   "id": "97446fae-b47f-4b73-a4b4-c03a101b0dd3",
   "metadata": {},
   "outputs": [
    {
     "name": "stdout",
     "output_type": "stream",
     "text": [
      "Writing testutility.py\n"
     ]
    }
   ],
   "source": [
    "%%writefile testutility.py\n",
    "import logging\n",
    "import os\n",
    "import subprocess\n",
    "import yaml\n",
    "import pandas as pd\n",
    "import datetime \n",
    "import gc\n",
    "import re\n",
    "\n",
    "\n",
    "################\n",
    "# File Reading #\n",
    "################\n",
    "\n",
    "def read_config_file(filepath):\n",
    "    with open(filepath, 'r') as stream:\n",
    "        try:\n",
    "            return yaml.safe_load(stream)\n",
    "        except yaml.YAMLError as exc:\n",
    "            logging.error(exc)\n",
    "\n",
    "\n",
    "def replacer(string, char):\n",
    "    pattern = char + '{2,}'\n",
    "    string = re.sub(pattern, char, string) \n",
    "    return string\n",
    "\n",
    "def col_header_val(df,table_config):\n",
    "    '''\n",
    "    replace whitespaces in the column\n",
    "    and standardized column names\n",
    "    '''\n",
    "    df.columns = df.columns.str.lower()\n",
    "    df.columns = df.columns.str.replace('[^\\w]','_',regex=True)\n",
    "    df.columns = list(map(lambda x: x.strip('_'), list(df.columns)))\n",
    "    df.columns = list(map(lambda x: replacer(x,'_'), list(df.columns)))\n",
    "    expected_col = list(map(lambda x: x.lower(),  table_config['columns']))\n",
    "    expected_col.sort()\n",
    "    df.columns =list(map(lambda x: x.lower(), list(df.columns)))\n",
    "    df = df.reindex(sorted(df.columns), axis=1)\n",
    "    if len(df.columns) == len(expected_col) and list(expected_col)  == list(df.columns):\n",
    "        print(\"column name and column length validation passed\")\n",
    "        return 1\n",
    "    else:\n",
    "        print(\"column name and column length validation failed\")\n",
    "        mismatched_columns_file = list(set(df.columns).difference(expected_col))\n",
    "        print(\"Following File columns are not in the YAML file\",mismatched_columns_file)\n",
    "        missing_YAML_file = list(set(expected_col).difference(df.columns))\n",
    "        print(\"Following YAML columns are not in the file uploaded\",missing_YAML_file)\n",
    "        logging.info(f'df columns: {df.columns}')\n",
    "        logging.info(f'expected columns: {expected_col}')\n",
    "        return 0\n"
   ]
  },
  {
   "cell_type": "code",
   "execution_count": 23,
   "id": "29e2c0b7-ed26-4523-b591-d1db4a0dc8db",
   "metadata": {},
   "outputs": [
    {
     "name": "stdout",
     "output_type": "stream",
     "text": [
      "Writing file.yaml\n"
     ]
    }
   ],
   "source": [
    "%%writefile file.yaml\n",
    "file_type: csv\n",
    "dataset_name: en-books-dataset\n",
    "file_name: test_data\n",
    "table_name: edsurv\n",
    "inbound_delimiter: \",\"\n",
    "outbound_delimiter: \"|\"\n",
    "skip_leading_rows: 1\n",
    "columns: \n",
    "    - title\n",
    "    - url\n",
    "    - abstract"
   ]
  },
  {
   "cell_type": "code",
   "execution_count": 4,
   "id": "75bcb80d-35fd-455c-b7cf-7a34eea33d8e",
   "metadata": {},
   "outputs": [],
   "source": [
    "# Read config file\n",
    "import testutility as util\n",
    "config_data = util.read_config_file(\"file.yaml\")"
   ]
  },
  {
   "cell_type": "code",
   "execution_count": 5,
   "id": "b67a3dca-ad78-4f8b-b0aa-2648fb1bf9ec",
   "metadata": {},
   "outputs": [
    {
     "data": {
      "text/plain": [
       "{'file_type': 'csv',\n",
       " 'dataset_name': 'en-books-dataset',\n",
       " 'file_name': 'test_data',\n",
       " 'table_name': 'edsurv',\n",
       " 'inbound_delimiter': ',',\n",
       " 'outbound_delimiter': '|',\n",
       " 'skip_leading_rows': 1,\n",
       " 'columns': ['title', 'url', 'abstract']}"
      ]
     },
     "execution_count": 5,
     "metadata": {},
     "output_type": "execute_result"
    }
   ],
   "source": [
    "config_data"
   ]
  },
  {
   "cell_type": "code",
   "execution_count": 6,
   "id": "f2bcc0f2-4d84-4255-86b6-8588f657f7e1",
   "metadata": {},
   "outputs": [
    {
     "data": {
      "text/plain": [
       "'csv'"
      ]
     },
     "execution_count": 6,
     "metadata": {},
     "output_type": "execute_result"
    }
   ],
   "source": [
    "config_data['file_type']"
   ]
  },
  {
   "cell_type": "code",
   "execution_count": 7,
   "id": "c195aa74-b896-4ffb-bd39-dbc17e65751b",
   "metadata": {},
   "outputs": [
    {
     "data": {
      "text/plain": [
       "','"
      ]
     },
     "execution_count": 7,
     "metadata": {},
     "output_type": "execute_result"
    }
   ],
   "source": [
    "config_data['inbound_delimiter']"
   ]
  },
  {
   "cell_type": "code",
   "execution_count": 10,
   "id": "c0aada58-fd8a-4e71-94ba-5a64ca2caa29",
   "metadata": {},
   "outputs": [
    {
     "data": {
      "text/html": [
       "<div>\n",
       "<style scoped>\n",
       "    .dataframe tbody tr th:only-of-type {\n",
       "        vertical-align: middle;\n",
       "    }\n",
       "\n",
       "    .dataframe tbody tr th {\n",
       "        vertical-align: top;\n",
       "    }\n",
       "\n",
       "    .dataframe thead th {\n",
       "        text-align: right;\n",
       "    }\n",
       "</style>\n",
       "<table border=\"1\" class=\"dataframe\">\n",
       "  <thead>\n",
       "    <tr style=\"text-align: right;\">\n",
       "      <th></th>\n",
       "      <th>title</th>\n",
       "      <th>url</th>\n",
       "      <th>abstract</th>\n",
       "    </tr>\n",
       "  </thead>\n",
       "  <tbody>\n",
       "    <tr>\n",
       "      <th>0</th>\n",
       "      <td>Wikibooks: Radiation Oncology/NHL/CLL-SLL</td>\n",
       "      <td>https://en.wikibooks.org/wiki/Radiation_Oncolo</td>\n",
       "      <td>Chronic Lymphocytic Leukemia and Small Lymphoc...</td>\n",
       "    </tr>\n",
       "    <tr>\n",
       "      <th>1</th>\n",
       "      <td>Wikibooks: Romanian/Lesson 9</td>\n",
       "      <td>https://en.wikibooks.org/wiki/Romanian/Lesson_9</td>\n",
       "      <td>==Băuturi/Beverages==</td>\n",
       "    </tr>\n",
       "    <tr>\n",
       "      <th>2</th>\n",
       "      <td>Wikibooks: Karrigell</td>\n",
       "      <td>https://en.wikibooks.org/wiki/Karrigell</td>\n",
       "      <td>Karrigell is an open Source Python web framewo...</td>\n",
       "    </tr>\n",
       "    <tr>\n",
       "      <th>3</th>\n",
       "      <td>Wikibooks: Calculus/Precalculus</td>\n",
       "      <td>https://en.wikibooks.org/wiki/The_Pyrogenesis</td>\n",
       "      <td>====setupUnitPanel====</td>\n",
       "    </tr>\n",
       "  </tbody>\n",
       "</table>\n",
       "</div>"
      ],
      "text/plain": [
       "                                       title  \\\n",
       "0  Wikibooks: Radiation Oncology/NHL/CLL-SLL   \n",
       "1               Wikibooks: Romanian/Lesson 9   \n",
       "2                       Wikibooks: Karrigell   \n",
       "3            Wikibooks: Calculus/Precalculus   \n",
       "\n",
       "                                               url  \\\n",
       "0   https://en.wikibooks.org/wiki/Radiation_Oncolo   \n",
       "1  https://en.wikibooks.org/wiki/Romanian/Lesson_9   \n",
       "2          https://en.wikibooks.org/wiki/Karrigell   \n",
       "3    https://en.wikibooks.org/wiki/The_Pyrogenesis   \n",
       "\n",
       "                                            abstract  \n",
       "0  Chronic Lymphocytic Leukemia and Small Lymphoc...  \n",
       "1                              ==Băuturi/Beverages==  \n",
       "2  Karrigell is an open Source Python web framewo...  \n",
       "3                             ====setupUnitPanel====  "
      ]
     },
     "execution_count": 10,
     "metadata": {},
     "output_type": "execute_result"
    }
   ],
   "source": [
    "# Normal reading process of the file\n",
    "import pandas as pd\n",
    "df = pd.read_csv(\"test_data.csv\",delimiter=',')\n",
    "df.head()"
   ]
  },
  {
   "cell_type": "code",
   "execution_count": 12,
   "id": "c6542f13-58b2-42fb-9a1b-d57bcd0ae91c",
   "metadata": {},
   "outputs": [
    {
     "data": {
      "text/html": [
       "<div>\n",
       "<style scoped>\n",
       "    .dataframe tbody tr th:only-of-type {\n",
       "        vertical-align: middle;\n",
       "    }\n",
       "\n",
       "    .dataframe tbody tr th {\n",
       "        vertical-align: top;\n",
       "    }\n",
       "\n",
       "    .dataframe thead th {\n",
       "        text-align: right;\n",
       "    }\n",
       "</style>\n",
       "<table border=\"1\" class=\"dataframe\">\n",
       "  <thead>\n",
       "    <tr style=\"text-align: right;\">\n",
       "      <th></th>\n",
       "      <th>title</th>\n",
       "      <th>url</th>\n",
       "      <th>abstract</th>\n",
       "    </tr>\n",
       "  </thead>\n",
       "  <tbody>\n",
       "    <tr>\n",
       "      <th>0</th>\n",
       "      <td>Wikibooks: Radiation Oncology/NHL/CLL-SLL</td>\n",
       "      <td>https://en.wikibooks.org/wiki/Radiation_Oncolo</td>\n",
       "      <td>Chronic Lymphocytic Leukemia and Small Lymphoc...</td>\n",
       "    </tr>\n",
       "    <tr>\n",
       "      <th>1</th>\n",
       "      <td>Wikibooks: Romanian/Lesson 9</td>\n",
       "      <td>https://en.wikibooks.org/wiki/Romanian/Lesson_9</td>\n",
       "      <td>==Băuturi/Beverages==</td>\n",
       "    </tr>\n",
       "    <tr>\n",
       "      <th>2</th>\n",
       "      <td>Wikibooks: Karrigell</td>\n",
       "      <td>https://en.wikibooks.org/wiki/Karrigell</td>\n",
       "      <td>Karrigell is an open Source Python web framewo...</td>\n",
       "    </tr>\n",
       "    <tr>\n",
       "      <th>3</th>\n",
       "      <td>Wikibooks: Calculus/Precalculus</td>\n",
       "      <td>https://en.wikibooks.org/wiki/The_Pyrogenesis</td>\n",
       "      <td>====setupUnitPanel====</td>\n",
       "    </tr>\n",
       "  </tbody>\n",
       "</table>\n",
       "</div>"
      ],
      "text/plain": [
       "                                       title  \\\n",
       "0  Wikibooks: Radiation Oncology/NHL/CLL-SLL   \n",
       "1               Wikibooks: Romanian/Lesson 9   \n",
       "2                       Wikibooks: Karrigell   \n",
       "3            Wikibooks: Calculus/Precalculus   \n",
       "\n",
       "                                               url  \\\n",
       "0   https://en.wikibooks.org/wiki/Radiation_Oncolo   \n",
       "1  https://en.wikibooks.org/wiki/Romanian/Lesson_9   \n",
       "2          https://en.wikibooks.org/wiki/Karrigell   \n",
       "3    https://en.wikibooks.org/wiki/The_Pyrogenesis   \n",
       "\n",
       "                                            abstract  \n",
       "0  Chronic Lymphocytic Leukemia and Small Lymphoc...  \n",
       "1                              ==Băuturi/Beverages==  \n",
       "2  Karrigell is an open Source Python web framewo...  \n",
       "3                             ====setupUnitPanel====  "
      ]
     },
     "execution_count": 12,
     "metadata": {},
     "output_type": "execute_result"
    }
   ],
   "source": [
    "# read the file using config file\n",
    "file_type = config_data['file_type']\n",
    "source_file = \"./\" + config_data['file_name'] + f'.{file_type}'\n",
    "#print(\"\",source_file)\n",
    "df = pd.read_csv(source_file,delimiter=config_data['inbound_delimiter'])\n",
    "df.head()"
   ]
  },
  {
   "cell_type": "code",
   "execution_count": 13,
   "id": "103e5322-de3b-4527-ab84-9ceb91fe5dfd",
   "metadata": {},
   "outputs": [
    {
     "name": "stdout",
     "output_type": "stream",
     "text": [
      "column name and column length validation passed\n"
     ]
    },
    {
     "data": {
      "text/plain": [
       "1"
      ]
     },
     "execution_count": 13,
     "metadata": {},
     "output_type": "execute_result"
    }
   ],
   "source": [
    "# validate the header of the file\n",
    "util.col_header_val(df,config_data)"
   ]
  },
  {
   "cell_type": "code",
   "execution_count": 14,
   "id": "e33fb695-1aaa-4b68-946f-20716aaa1459",
   "metadata": {},
   "outputs": [
    {
     "name": "stdout",
     "output_type": "stream",
     "text": [
      "columns of files are: Index(['title', 'url', 'abstract'], dtype='object')\n",
      "columns of YAML are: ['title', 'url', 'abstract']\n"
     ]
    }
   ],
   "source": [
    "print(\"columns of files are:\" ,df.columns)\n",
    "print(\"columns of YAML are:\" ,config_data['columns'])"
   ]
  },
  {
   "cell_type": "code",
   "execution_count": 15,
   "id": "d32c25a6-21cf-41cf-ae21-44d1b5e2b479",
   "metadata": {},
   "outputs": [
    {
     "name": "stdout",
     "output_type": "stream",
     "text": [
      "column name and column length validation passed\n",
      "col validation passed\n"
     ]
    }
   ],
   "source": [
    "if util.col_header_val(df,config_data)==0:\n",
    "    print(\"validation failed\")\n",
    "    # write code to reject the file\n",
    "else:\n",
    "    print(\"col validation passed\")\n",
    "    # write the code to perform further action\n",
    "    # in the pipeline"
   ]
  },
  {
   "cell_type": "code",
   "execution_count": 16,
   "id": "faca1b9d-e393-47dd-a434-fc64d47afbda",
   "metadata": {},
   "outputs": [
    {
     "data": {
      "text/html": [
       "<div>\n",
       "<style scoped>\n",
       "    .dataframe tbody tr th:only-of-type {\n",
       "        vertical-align: middle;\n",
       "    }\n",
       "\n",
       "    .dataframe tbody tr th {\n",
       "        vertical-align: top;\n",
       "    }\n",
       "\n",
       "    .dataframe thead th {\n",
       "        text-align: right;\n",
       "    }\n",
       "</style>\n",
       "<table border=\"1\" class=\"dataframe\">\n",
       "  <thead>\n",
       "    <tr style=\"text-align: right;\">\n",
       "      <th></th>\n",
       "      <th>title</th>\n",
       "      <th>url</th>\n",
       "      <th>abstract</th>\n",
       "    </tr>\n",
       "  </thead>\n",
       "  <tbody>\n",
       "    <tr>\n",
       "      <th>0</th>\n",
       "      <td>Wikibooks: Radiation Oncology/NHL/CLL-SLL</td>\n",
       "      <td>https://en.wikibooks.org/wiki/Radiation_Oncolo</td>\n",
       "      <td>Chronic Lymphocytic Leukemia and Small Lymphoc...</td>\n",
       "    </tr>\n",
       "    <tr>\n",
       "      <th>1</th>\n",
       "      <td>Wikibooks: Romanian/Lesson 9</td>\n",
       "      <td>https://en.wikibooks.org/wiki/Romanian/Lesson_9</td>\n",
       "      <td>==Băuturi/Beverages==</td>\n",
       "    </tr>\n",
       "    <tr>\n",
       "      <th>2</th>\n",
       "      <td>Wikibooks: Karrigell</td>\n",
       "      <td>https://en.wikibooks.org/wiki/Karrigell</td>\n",
       "      <td>Karrigell is an open Source Python web framewo...</td>\n",
       "    </tr>\n",
       "    <tr>\n",
       "      <th>3</th>\n",
       "      <td>Wikibooks: Calculus/Precalculus</td>\n",
       "      <td>https://en.wikibooks.org/wiki/The_Pyrogenesis</td>\n",
       "      <td>====setupUnitPanel====</td>\n",
       "    </tr>\n",
       "  </tbody>\n",
       "</table>\n",
       "</div>"
      ],
      "text/plain": [
       "                                       title  \\\n",
       "0  Wikibooks: Radiation Oncology/NHL/CLL-SLL   \n",
       "1               Wikibooks: Romanian/Lesson 9   \n",
       "2                       Wikibooks: Karrigell   \n",
       "3            Wikibooks: Calculus/Precalculus   \n",
       "\n",
       "                                               url  \\\n",
       "0   https://en.wikibooks.org/wiki/Radiation_Oncolo   \n",
       "1  https://en.wikibooks.org/wiki/Romanian/Lesson_9   \n",
       "2          https://en.wikibooks.org/wiki/Karrigell   \n",
       "3    https://en.wikibooks.org/wiki/The_Pyrogenesis   \n",
       "\n",
       "                                            abstract  \n",
       "0  Chronic Lymphocytic Leukemia and Small Lymphoc...  \n",
       "1                              ==Băuturi/Beverages==  \n",
       "2  Karrigell is an open Source Python web framewo...  \n",
       "3                             ====setupUnitPanel====  "
      ]
     },
     "execution_count": 16,
     "metadata": {},
     "output_type": "execute_result"
    }
   ],
   "source": [
    "pd.read_csv(\"test_data.csv\")"
   ]
  },
  {
   "cell_type": "code",
   "execution_count": 17,
   "id": "2de6c419-2edf-47a0-b286-d001c7f3ec54",
   "metadata": {},
   "outputs": [
    {
     "data": {
      "text/plain": [
       "0     https://en.wikibooks.org/wiki/Radiation_Oncolo\n",
       "1    https://en.wikibooks.org/wiki/Romanian/Lesson_9\n",
       "2            https://en.wikibooks.org/wiki/Karrigell\n",
       "3      https://en.wikibooks.org/wiki/The_Pyrogenesis\n",
       "Name: url, dtype: object"
      ]
     },
     "execution_count": 17,
     "metadata": {},
     "output_type": "execute_result"
    }
   ],
   "source": [
    "df['url'][0:4]"
   ]
  },
  {
   "cell_type": "code",
   "execution_count": 18,
   "id": "63a5c1cd-26e6-41fb-bc88-7e2405d89516",
   "metadata": {},
   "outputs": [
    {
     "data": {
      "text/plain": [
       "'Karrigell is an open Source Python web framework written in Python'"
      ]
     },
     "execution_count": 18,
     "metadata": {},
     "output_type": "execute_result"
    }
   ],
   "source": [
    "df['abstract'][2]"
   ]
  },
  {
   "cell_type": "code",
   "execution_count": 19,
   "id": "b31a3ddd-158b-4798-b85d-fb3d2a7754f8",
   "metadata": {},
   "outputs": [],
   "source": [
    "### Creating test file for this demo:\n",
    "testdata = {\n",
    "    'title' : ['Wikibooks: Radiation Oncology/NHL/CLL-SLL', 'Wikibooks: Romanian/Lesson 9', 'Wikibooks: Karrigell','Wikibooks: Calculus/Precalculus'],\n",
    "    'url' : ['https://en.wikibooks.org/wiki/Radiation_Oncolo', 'https://en.wikibooks.org/wiki/Romanian/Lesson_9', 'https://en.wikibooks.org/wiki/Karrigell','https://en.wikibooks.org/wiki/The_Pyrogenesis'],\n",
    "    'abstract' : ['Chronic Lymphocytic Leukemia and Small Lymphocytic Lymphoma (CLL/SLL)','==Băuturi/Beverages==','Karrigell is an open Source Python web framework written in Python','====setupUnitPanel====']\n",
    "}\n",
    "import pandas as pd\n",
    "df = pd.DataFrame(testdata, columns=['title', 'url','abstract'])\n",
    "df.to_csv(\"./test_data.csv\",index=False)"
   ]
  },
  {
   "cell_type": "code",
   "execution_count": 20,
   "id": "345bccef-04fb-4ea1-98be-3b8ca2a5ebfd",
   "metadata": {},
   "outputs": [
    {
     "data": {
      "text/html": [
       "<div>\n",
       "<style scoped>\n",
       "    .dataframe tbody tr th:only-of-type {\n",
       "        vertical-align: middle;\n",
       "    }\n",
       "\n",
       "    .dataframe tbody tr th {\n",
       "        vertical-align: top;\n",
       "    }\n",
       "\n",
       "    .dataframe thead th {\n",
       "        text-align: right;\n",
       "    }\n",
       "</style>\n",
       "<table border=\"1\" class=\"dataframe\">\n",
       "  <thead>\n",
       "    <tr style=\"text-align: right;\">\n",
       "      <th></th>\n",
       "      <th>title</th>\n",
       "      <th>url</th>\n",
       "      <th>abstract</th>\n",
       "    </tr>\n",
       "  </thead>\n",
       "  <tbody>\n",
       "    <tr>\n",
       "      <th>0</th>\n",
       "      <td>Wikibooks: Radiation Oncology/NHL/CLL-SLL</td>\n",
       "      <td>https://en.wikibooks.org/wiki/Radiation_Oncolo</td>\n",
       "      <td>Chronic Lymphocytic Leukemia and Small Lymphoc...</td>\n",
       "    </tr>\n",
       "    <tr>\n",
       "      <th>1</th>\n",
       "      <td>Wikibooks: Romanian/Lesson 9</td>\n",
       "      <td>https://en.wikibooks.org/wiki/Romanian/Lesson_9</td>\n",
       "      <td>==Băuturi/Beverages==</td>\n",
       "    </tr>\n",
       "    <tr>\n",
       "      <th>2</th>\n",
       "      <td>Wikibooks: Karrigell</td>\n",
       "      <td>https://en.wikibooks.org/wiki/Karrigell</td>\n",
       "      <td>Karrigell is an open Source Python web framewo...</td>\n",
       "    </tr>\n",
       "    <tr>\n",
       "      <th>3</th>\n",
       "      <td>Wikibooks: Calculus/Precalculus</td>\n",
       "      <td>https://en.wikibooks.org/wiki/The_Pyrogenesis</td>\n",
       "      <td>====setupUnitPanel====</td>\n",
       "    </tr>\n",
       "  </tbody>\n",
       "</table>\n",
       "</div>"
      ],
      "text/plain": [
       "                                       title  \\\n",
       "0  Wikibooks: Radiation Oncology/NHL/CLL-SLL   \n",
       "1               Wikibooks: Romanian/Lesson 9   \n",
       "2                       Wikibooks: Karrigell   \n",
       "3            Wikibooks: Calculus/Precalculus   \n",
       "\n",
       "                                               url  \\\n",
       "0   https://en.wikibooks.org/wiki/Radiation_Oncolo   \n",
       "1  https://en.wikibooks.org/wiki/Romanian/Lesson_9   \n",
       "2          https://en.wikibooks.org/wiki/Karrigell   \n",
       "3    https://en.wikibooks.org/wiki/The_Pyrogenesis   \n",
       "\n",
       "                                            abstract  \n",
       "0  Chronic Lymphocytic Leukemia and Small Lymphoc...  \n",
       "1                              ==Băuturi/Beverages==  \n",
       "2  Karrigell is an open Source Python web framewo...  \n",
       "3                             ====setupUnitPanel====  "
      ]
     },
     "execution_count": 20,
     "metadata": {},
     "output_type": "execute_result"
    }
   ],
   "source": [
    "df"
   ]
  },
  {
   "cell_type": "code",
   "execution_count": 21,
   "id": "c81609cc-332a-4879-b6d5-5fcf8d66eee9",
   "metadata": {},
   "outputs": [
    {
     "data": {
      "text/plain": [
       "{'title': ['Wikibooks: Radiation Oncology/NHL/CLL-SLL',\n",
       "  'Wikibooks: Romanian/Lesson 9',\n",
       "  'Wikibooks: Karrigell',\n",
       "  'Wikibooks: Calculus/Precalculus'],\n",
       " 'url': ['https://en.wikibooks.org/wiki/Radiation_Oncolo',\n",
       "  'https://en.wikibooks.org/wiki/Romanian/Lesson_9',\n",
       "  'https://en.wikibooks.org/wiki/Karrigell',\n",
       "  'https://en.wikibooks.org/wiki/The_Pyrogenesis'],\n",
       " 'abstract': ['Chronic Lymphocytic Leukemia and Small Lymphocytic Lymphoma (CLL/SLL)',\n",
       "  '==Băuturi/Beverages==',\n",
       "  'Karrigell is an open Source Python web framework written in Python',\n",
       "  '====setupUnitPanel====']}"
      ]
     },
     "execution_count": 21,
     "metadata": {},
     "output_type": "execute_result"
    }
   ],
   "source": [
    "testdata"
   ]
  },
  {
   "cell_type": "code",
   "execution_count": 24,
   "id": "8071d3b9-d0c3-4a9c-b3e0-55de33c39199",
   "metadata": {},
   "outputs": [
    {
     "name": "stdout",
     "output_type": "stream",
     "text": [
      "File summary:\n",
      "Number of rows: 4\n",
      "Number of columns: 3\n",
      "File size: 512 bytes\n"
     ]
    }
   ],
   "source": [
    "import os\n",
    "# Get file summary\n",
    "file_size = os.path.getsize('test_data.csv')\n",
    "num_rows = len(df)\n",
    "num_cols = len(df.columns)\n",
    "\n",
    "# Print file summary\n",
    "print(\"File summary:\")\n",
    "print(f\"Number of rows: {num_rows}\")\n",
    "print(f\"Number of columns: {num_cols}\")\n",
    "print(f\"File size: {file_size} bytes\")\n",
    "     "
   ]
  }
 ],
 "metadata": {
  "kernelspec": {
   "display_name": "Python 3 (ipykernel)",
   "language": "python",
   "name": "python3"
  },
  "language_info": {
   "codemirror_mode": {
    "name": "ipython",
    "version": 3
   },
   "file_extension": ".py",
   "mimetype": "text/x-python",
   "name": "python",
   "nbconvert_exporter": "python",
   "pygments_lexer": "ipython3",
   "version": "3.11.4"
  }
 },
 "nbformat": 4,
 "nbformat_minor": 5
}
